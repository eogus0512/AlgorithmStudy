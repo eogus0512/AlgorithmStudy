{
 "cells": [
  {
   "cell_type": "code",
   "execution_count": null,
   "id": "2ae4f001",
   "metadata": {},
   "outputs": [],
   "source": [
    "n = int(input())\n",
    "word = []    \n",
    "\n",
    "# 결과 집합\n",
    "res = []\n",
    "\n",
    "for _ in range(n):\n",
    "    word.append(input())\n",
    "\n",
    "# 중복단어 제거, 단어 길이 역순으로 정렬\n",
    "word = list(set(word))\n",
    "word.sort(key=lambda x : len(x), reverse = True)\n",
    "\n",
    "# 집어넣을 단어가 결과 집합에 있는 원소의 prefix가 아니면 추가.\n",
    "for i in range(len(word)):\n",
    "    l = len(res)\n",
    "    flag = False\n",
    "    for j in range(l):\n",
    "        if res[j].find(word[i]) == 0:\n",
    "            flag = True\n",
    "            break\n",
    "    if flag == True:\n",
    "        continue\n",
    "    else:\n",
    "        res.append(word[i])\n",
    "\n",
    "print(len(res))"
   ]
  }
 ],
 "metadata": {
  "kernelspec": {
   "display_name": "Python 3 (ipykernel)",
   "language": "python",
   "name": "python3"
  },
  "language_info": {
   "codemirror_mode": {
    "name": "ipython",
    "version": 3
   },
   "file_extension": ".py",
   "mimetype": "text/x-python",
   "name": "python",
   "nbconvert_exporter": "python",
   "pygments_lexer": "ipython3",
   "version": "3.9.7"
  }
 },
 "nbformat": 4,
 "nbformat_minor": 5
}
