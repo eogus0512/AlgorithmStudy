{
 "cells": [
  {
   "cell_type": "code",
   "execution_count": 30,
   "id": "3ef565c0",
   "metadata": {},
   "outputs": [
    {
     "name": "stdout",
     "output_type": "stream",
     "text": [
      "80875542\n",
      "88755420\n"
     ]
    }
   ],
   "source": [
    "n = input()\n",
    "\n",
    "# 0이 포함되지 않은 숫자는 30의 배수가 될 수 없음. (1의 자리가 0이 아님)\n",
    "if '0' not in n:\n",
    "    print(-1)\n",
    "else:\n",
    "    #3의 배수는 모든 자리의 수의 합을 3으로 나눴을 때, 나머지가 0이다.\n",
    "    totalSum = 0\n",
    "    res = []\n",
    "    for i in range(len(n)):\n",
    "        totalSum += int(n[i])\n",
    "        res.append(n[i])\n",
    "    if totalSum % 3 == 0:\n",
    "        res.sort(reverse = True)\n",
    "        print(''.join(res))\n",
    "    else:\n",
    "        print(-1)\n",
    "        \n"
   ]
  },
  {
   "cell_type": "code",
   "execution_count": 37,
   "id": "133f2a6d",
   "metadata": {},
   "outputs": [
    {
     "name": "stdout",
     "output_type": "stream",
     "text": [
      "80875542\n",
      "88755420\n"
     ]
    }
   ],
   "source": [
    "# refactor\n",
    "n = input()\n",
    "\n",
    "if '0' not in n:\n",
    "    print(-1)\n",
    "else:\n",
    "    totalSum = 0\n",
    "    for i in range(len(n)):\n",
    "        totalSum += int(n[i])\n",
    "    if totalSum % 3 == 0:\n",
    "        n = sorted(n, reverse = True)\n",
    "        print(''.join(n))\n",
    "    else:\n",
    "        print(-1)"
   ]
  },
  {
   "cell_type": "code",
   "execution_count": 49,
   "id": "e515ec6b",
   "metadata": {},
   "outputs": [
    {
     "name": "stdout",
     "output_type": "stream",
     "text": [
      "count :  3628800\n",
      "l :  3628800\n"
     ]
    }
   ],
   "source": [
    "# 30의 배수 - 끝자리가 0이고, 모든 자리수의 합 % 3 == 0\n",
    "\n",
    "import itertools\n",
    "\n",
    "n = \"8008705542\"\n",
    "arr = itertools.permutations(n)\n",
    "count = 0\n",
    "l = 0\n",
    "for a in arr:\n",
    "    l += 1\n",
    "    x = int(''.join(list(a)))\n",
    "    if x % 3 == 0:\n",
    "        count += 1\n",
    "print(\"count : \", count)\n",
    "print(\"l : \", l)"
   ]
  }
 ],
 "metadata": {
  "kernelspec": {
   "display_name": "Python 3 (ipykernel)",
   "language": "python",
   "name": "python3"
  },
  "language_info": {
   "codemirror_mode": {
    "name": "ipython",
    "version": 3
   },
   "file_extension": ".py",
   "mimetype": "text/x-python",
   "name": "python",
   "nbconvert_exporter": "python",
   "pygments_lexer": "ipython3",
   "version": "3.9.7"
  }
 },
 "nbformat": 4,
 "nbformat_minor": 5
}
