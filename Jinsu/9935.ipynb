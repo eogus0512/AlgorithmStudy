{
 "cells": [
  {
   "cell_type": "code",
   "execution_count": null,
   "id": "74e6b532",
   "metadata": {},
   "outputs": [],
   "source": [
    "# 시간 복잡도 고려 안한 풀이 O(n^2)\n",
    "\n",
    "word = input()\n",
    "explo = input()\n",
    "\n",
    "while explo in word:\n",
    "    word = word.replace(explo, '')\n",
    "if len(word) == 0:\n",
    "    print(\"FRULA\")\n",
    "else:\n",
    "    print(word)"
   ]
  },
  {
   "cell_type": "code",
   "execution_count": 39,
   "id": "20a0e845",
   "metadata": {},
   "outputs": [
    {
     "name": "stdout",
     "output_type": "stream",
     "text": [
      "12ab\n",
      "ab\n",
      "12\n"
     ]
    }
   ],
   "source": [
    "#import sys\n",
    "#input = sys.stdin.readline \n",
    "# 위 두줄 넣으면 틀렸다고 채점됨.\n",
    "\n",
    "\n",
    "# O(n)\n",
    "word = input()\n",
    "explo = input()\n",
    "l = len(explo)\n",
    "st = []\n",
    "\n",
    "# 스택에 문자 추가\n",
    "# 집어넣은 문자가 폭발 문자의 마지막 문자와 일치하면 스택의 뒤에서 폭발문자 길이만큼의 길이를 파싱한 문자열과 폭발 문자가 일치하는지 확인\n",
    "# 일치하면 스택에서 폭발문자 제거\n",
    "for i in range(len(word)):\n",
    "    st.append(word[i])\n",
    "    if st[-1] == explo[-1] and ''.join(st[-l:]) == explo:\n",
    "        for j in range(l):\n",
    "            st.pop()\n",
    "        \n",
    "res = ''.join(st)\n",
    "        \n",
    "if res == '':\n",
    "    print(\"FRULA\")\n",
    "else:\n",
    "    print(res)"
   ]
  }
 ],
 "metadata": {
  "kernelspec": {
   "display_name": "Python 3 (ipykernel)",
   "language": "python",
   "name": "python3"
  },
  "language_info": {
   "codemirror_mode": {
    "name": "ipython",
    "version": 3
   },
   "file_extension": ".py",
   "mimetype": "text/x-python",
   "name": "python",
   "nbconvert_exporter": "python",
   "pygments_lexer": "ipython3",
   "version": "3.9.7"
  }
 },
 "nbformat": 4,
 "nbformat_minor": 5
}
